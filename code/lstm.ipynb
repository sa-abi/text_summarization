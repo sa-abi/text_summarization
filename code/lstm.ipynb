{
 "cells": [
  {
   "cell_type": "code",
   "execution_count": 1,
   "id": "d3e7493a-5d07-400b-911e-bdf7dc719773",
   "metadata": {
    "tags": []
   },
   "outputs": [],
   "source": [
    "# !pip install tensorflow==2.6.2\n",
    "# !pip install keras==2.6.0 \n",
    "# !pip install gensim==4.1.2 \n",
    "# !pip install nltk==3.8.1 \n",
    "# !pip install rouge==1.0.1 "
   ]
  },
  {
   "cell_type": "code",
   "execution_count": 2,
   "id": "44a066f1",
   "metadata": {
    "tags": []
   },
   "outputs": [],
   "source": [
    "import os\n",
    "import pandas as pd\n",
    "from nltk.corpus import stopwords\n",
    "import nltk\n",
    "from string import punctuation\n",
    "import gensim\n",
    "import numpy as np\n",
    "from keras.preprocessing.sequence import pad_sequences\n",
    "from keras.layers import Input, LSTM, Embedding, Dense, Concatenate, TimeDistributed\n",
    "from keras.layers import Dense, LSTM, Dropout, Input, Activation, Add, concatenate, Embedding, RepeatVector\n",
    "from keras.models import Sequential, Model\n",
    "from keras.callbacks import ModelCheckpoint, EarlyStopping, TensorBoard\n",
    "import tensorflow as tf\n",
    "import matplotlib.pyplot as plt\n",
    "import collections\n",
    "import math"
   ]
  },
  {
   "cell_type": "code",
   "execution_count": 3,
   "id": "d5d2bcf9",
   "metadata": {
    "tags": []
   },
   "outputs": [],
   "source": [
    "def remove_punc(string):\n",
    "\n",
    "    punctuation_zh = r\"\"\"!\"#$%&'()*+,-./:;<=>?@[\\]^_`{|}~“”？，！【】（）、。：；’‘……￥·\"\"\"\n",
    "    dicts = {i: '' for i in punctuation + punctuation_zh}\n",
    "    punc_table = str.maketrans(dicts)\n",
    "    return string.translate(punc_table)"
   ]
  },
  {
   "cell_type": "code",
   "execution_count": 4,
   "id": "62549247",
   "metadata": {
    "tags": []
   },
   "outputs": [],
   "source": [
    "stop_words = stopwords.words('english')"
   ]
  },
  {
   "cell_type": "code",
   "execution_count": 5,
   "id": "39d3a56c",
   "metadata": {
    "tags": []
   },
   "outputs": [],
   "source": [
    "def preprocess(line):\n",
    "    temp = []\n",
    "    cut_text = list(nltk.word_tokenize(line))\n",
    "    for word in cut_text:\n",
    "        if word in stop_words:\n",
    "            continue\n",
    "        word = remove_punc(word).strip()\n",
    "        if not word:\n",
    "            continue\n",
    "        temp.append(word)\n",
    "    return temp"
   ]
  },
  {
   "cell_type": "code",
   "execution_count": 6,
   "id": "a62a378c-11cf-4fa0-a2c1-97576643e87b",
   "metadata": {
    "tags": []
   },
   "outputs": [],
   "source": [
    "train_data = pd.read_csv(\"train.csv\")\n",
    "val_data = pd.read_csv(\"val.csv\")\n",
    "test_data = pd.read_csv(\"test.csv\")\n",
    "data = pd.concat([train_data, val_data, test_data], ignore_index=True)"
   ]
  },
  {
   "cell_type": "code",
   "execution_count": 7,
   "id": "9dce4564-d53f-49d1-8532-202a29d859f0",
   "metadata": {
    "tags": []
   },
   "outputs": [
    {
     "data": {
      "text/html": [
       "<div>\n",
       "<style scoped>\n",
       "    .dataframe tbody tr th:only-of-type {\n",
       "        vertical-align: middle;\n",
       "    }\n",
       "\n",
       "    .dataframe tbody tr th {\n",
       "        vertical-align: top;\n",
       "    }\n",
       "\n",
       "    .dataframe thead th {\n",
       "        text-align: right;\n",
       "    }\n",
       "</style>\n",
       "<table border=\"1\" class=\"dataframe\">\n",
       "  <thead>\n",
       "    <tr style=\"text-align: right;\">\n",
       "      <th></th>\n",
       "      <th>class</th>\n",
       "      <th>article</th>\n",
       "      <th>summary</th>\n",
       "    </tr>\n",
       "  </thead>\n",
       "  <tbody>\n",
       "    <tr>\n",
       "      <th>0</th>\n",
       "      <td>entertainment</td>\n",
       "      <td>Top of the Pops leaves BBC OneThe BBC's flagsh...</td>\n",
       "      <td>The BBC's flagship pop music programme Top of ...</td>\n",
       "    </tr>\n",
       "    <tr>\n",
       "      <th>1</th>\n",
       "      <td>entertainment</td>\n",
       "      <td>Snow Patrol feted at Irish awardsSnow Patrol w...</td>\n",
       "      <td>Franz Ferdinand picked up best international b...</td>\n",
       "    </tr>\n",
       "    <tr>\n",
       "      <th>2</th>\n",
       "      <td>entertainment</td>\n",
       "      <td>Godzilla gets Hollywood fame starMovie monster...</td>\n",
       "      <td>\"Godzilla should thank you for this historical...</td>\n",
       "    </tr>\n",
       "    <tr>\n",
       "      <th>3</th>\n",
       "      <td>entertainment</td>\n",
       "      <td>Children vote Shrek 2 best filmYoung UK film f...</td>\n",
       "      <td>Young UK film fans voted animated Hollywood hi...</td>\n",
       "    </tr>\n",
       "    <tr>\n",
       "      <th>4</th>\n",
       "      <td>entertainment</td>\n",
       "      <td>Franz Ferdinand's art school lessonScottish ro...</td>\n",
       "      <td>The buzz about the band soon spread around the...</td>\n",
       "    </tr>\n",
       "    <tr>\n",
       "      <th>...</th>\n",
       "      <td>...</td>\n",
       "      <td>...</td>\n",
       "      <td>...</td>\n",
       "    </tr>\n",
       "    <tr>\n",
       "      <th>2220</th>\n",
       "      <td>tech</td>\n",
       "      <td>Cable offers video-on-demandCable firms NTL an...</td>\n",
       "      <td>Cable firms NTL and Telewest have both launche...</td>\n",
       "    </tr>\n",
       "    <tr>\n",
       "      <th>2221</th>\n",
       "      <td>tech</td>\n",
       "      <td>Anti-spam laws bite spammer hardThe net's self...</td>\n",
       "      <td>OptInRealBig was fighting several legal battle...</td>\n",
       "    </tr>\n",
       "    <tr>\n",
       "      <th>2222</th>\n",
       "      <td>tech</td>\n",
       "      <td>Telewest to challenge Sky PlusCable firm Telew...</td>\n",
       "      <td>Cable firm Telewest is to offer a personal vid...</td>\n",
       "    </tr>\n",
       "    <tr>\n",
       "      <th>2223</th>\n",
       "      <td>tech</td>\n",
       "      <td>Halo fans' hope for sequelXbox video game Halo...</td>\n",
       "      <td>Xbox video game Halo 2 has been released in th...</td>\n",
       "    </tr>\n",
       "    <tr>\n",
       "      <th>2224</th>\n",
       "      <td>tech</td>\n",
       "      <td>Apple iPod family expands marketApple has expa...</td>\n",
       "      <td>The IFPI industry body said that the popularit...</td>\n",
       "    </tr>\n",
       "  </tbody>\n",
       "</table>\n",
       "<p>2225 rows × 3 columns</p>\n",
       "</div>"
      ],
      "text/plain": [
       "              class                                            article  \\\n",
       "0     entertainment  Top of the Pops leaves BBC OneThe BBC's flagsh...   \n",
       "1     entertainment  Snow Patrol feted at Irish awardsSnow Patrol w...   \n",
       "2     entertainment  Godzilla gets Hollywood fame starMovie monster...   \n",
       "3     entertainment  Children vote Shrek 2 best filmYoung UK film f...   \n",
       "4     entertainment  Franz Ferdinand's art school lessonScottish ro...   \n",
       "...             ...                                                ...   \n",
       "2220           tech  Cable offers video-on-demandCable firms NTL an...   \n",
       "2221           tech  Anti-spam laws bite spammer hardThe net's self...   \n",
       "2222           tech  Telewest to challenge Sky PlusCable firm Telew...   \n",
       "2223           tech  Halo fans' hope for sequelXbox video game Halo...   \n",
       "2224           tech  Apple iPod family expands marketApple has expa...   \n",
       "\n",
       "                                                summary  \n",
       "0     The BBC's flagship pop music programme Top of ...  \n",
       "1     Franz Ferdinand picked up best international b...  \n",
       "2     \"Godzilla should thank you for this historical...  \n",
       "3     Young UK film fans voted animated Hollywood hi...  \n",
       "4     The buzz about the band soon spread around the...  \n",
       "...                                                 ...  \n",
       "2220  Cable firms NTL and Telewest have both launche...  \n",
       "2221  OptInRealBig was fighting several legal battle...  \n",
       "2222  Cable firm Telewest is to offer a personal vid...  \n",
       "2223  Xbox video game Halo 2 has been released in th...  \n",
       "2224  The IFPI industry body said that the popularit...  \n",
       "\n",
       "[2225 rows x 3 columns]"
      ]
     },
     "execution_count": 7,
     "metadata": {},
     "output_type": "execute_result"
    }
   ],
   "source": [
    "data"
   ]
  },
  {
   "cell_type": "code",
   "execution_count": 8,
   "id": "6fdd3d1d",
   "metadata": {
    "tags": []
   },
   "outputs": [],
   "source": [
    "data[\"article_clean\"] = data[\"article\"].apply(preprocess)\n",
    "data[\"summary_clean\"] = data[\"summary\"].apply(preprocess)"
   ]
  },
  {
   "cell_type": "code",
   "execution_count": 9,
   "id": "236e758e",
   "metadata": {
    "tags": []
   },
   "outputs": [
    {
     "data": {
      "text/html": [
       "<div>\n",
       "<style scoped>\n",
       "    .dataframe tbody tr th:only-of-type {\n",
       "        vertical-align: middle;\n",
       "    }\n",
       "\n",
       "    .dataframe tbody tr th {\n",
       "        vertical-align: top;\n",
       "    }\n",
       "\n",
       "    .dataframe thead th {\n",
       "        text-align: right;\n",
       "    }\n",
       "</style>\n",
       "<table border=\"1\" class=\"dataframe\">\n",
       "  <thead>\n",
       "    <tr style=\"text-align: right;\">\n",
       "      <th></th>\n",
       "      <th>class</th>\n",
       "      <th>article</th>\n",
       "      <th>summary</th>\n",
       "      <th>article_clean</th>\n",
       "      <th>summary_clean</th>\n",
       "    </tr>\n",
       "  </thead>\n",
       "  <tbody>\n",
       "    <tr>\n",
       "      <th>0</th>\n",
       "      <td>entertainment</td>\n",
       "      <td>Top of the Pops leaves BBC OneThe BBC's flagsh...</td>\n",
       "      <td>The BBC's flagship pop music programme Top of ...</td>\n",
       "      <td>[Top, Pops, leaves, BBC, OneThe, BBC, s, flags...</td>\n",
       "      <td>[The, BBC, s, flagship, pop, music, programme,...</td>\n",
       "    </tr>\n",
       "    <tr>\n",
       "      <th>1</th>\n",
       "      <td>entertainment</td>\n",
       "      <td>Snow Patrol feted at Irish awardsSnow Patrol w...</td>\n",
       "      <td>Franz Ferdinand picked up best international b...</td>\n",
       "      <td>[Snow, Patrol, feted, Irish, awardsSnow, Patro...</td>\n",
       "      <td>[Franz, Ferdinand, picked, best, international...</td>\n",
       "    </tr>\n",
       "    <tr>\n",
       "      <th>2</th>\n",
       "      <td>entertainment</td>\n",
       "      <td>Godzilla gets Hollywood fame starMovie monster...</td>\n",
       "      <td>\"Godzilla should thank you for this historical...</td>\n",
       "      <td>[Godzilla, gets, Hollywood, fame, starMovie, m...</td>\n",
       "      <td>[Godzilla, thank, historical, monumental, star...</td>\n",
       "    </tr>\n",
       "    <tr>\n",
       "      <th>3</th>\n",
       "      <td>entertainment</td>\n",
       "      <td>Children vote Shrek 2 best filmYoung UK film f...</td>\n",
       "      <td>Young UK film fans voted animated Hollywood hi...</td>\n",
       "      <td>[Children, vote, Shrek, 2, best, filmYoung, UK...</td>\n",
       "      <td>[Young, UK, film, fans, voted, animated, Holly...</td>\n",
       "    </tr>\n",
       "    <tr>\n",
       "      <th>4</th>\n",
       "      <td>entertainment</td>\n",
       "      <td>Franz Ferdinand's art school lessonScottish ro...</td>\n",
       "      <td>The buzz about the band soon spread around the...</td>\n",
       "      <td>[Franz, Ferdinand, s, art, school, lessonScott...</td>\n",
       "      <td>[The, buzz, band, soon, spread, around, music,...</td>\n",
       "    </tr>\n",
       "    <tr>\n",
       "      <th>...</th>\n",
       "      <td>...</td>\n",
       "      <td>...</td>\n",
       "      <td>...</td>\n",
       "      <td>...</td>\n",
       "      <td>...</td>\n",
       "    </tr>\n",
       "    <tr>\n",
       "      <th>2220</th>\n",
       "      <td>tech</td>\n",
       "      <td>Cable offers video-on-demandCable firms NTL an...</td>\n",
       "      <td>Cable firms NTL and Telewest have both launche...</td>\n",
       "      <td>[Cable, offers, videoondemandCable, firms, NTL...</td>\n",
       "      <td>[Cable, firms, NTL, Telewest, launched, videoo...</td>\n",
       "    </tr>\n",
       "    <tr>\n",
       "      <th>2221</th>\n",
       "      <td>tech</td>\n",
       "      <td>Anti-spam laws bite spammer hardThe net's self...</td>\n",
       "      <td>OptInRealBig was fighting several legal battle...</td>\n",
       "      <td>[Antispam, laws, bite, spammer, hardThe, net, ...</td>\n",
       "      <td>[OptInRealBig, fighting, several, legal, battl...</td>\n",
       "    </tr>\n",
       "    <tr>\n",
       "      <th>2222</th>\n",
       "      <td>tech</td>\n",
       "      <td>Telewest to challenge Sky PlusCable firm Telew...</td>\n",
       "      <td>Cable firm Telewest is to offer a personal vid...</td>\n",
       "      <td>[Telewest, challenge, Sky, PlusCable, firm, Te...</td>\n",
       "      <td>[Cable, firm, Telewest, offer, personal, video...</td>\n",
       "    </tr>\n",
       "    <tr>\n",
       "      <th>2223</th>\n",
       "      <td>tech</td>\n",
       "      <td>Halo fans' hope for sequelXbox video game Halo...</td>\n",
       "      <td>Xbox video game Halo 2 has been released in th...</td>\n",
       "      <td>[Halo, fans, hope, sequelXbox, video, game, Ha...</td>\n",
       "      <td>[Xbox, video, game, Halo, 2, released, US, 9, ...</td>\n",
       "    </tr>\n",
       "    <tr>\n",
       "      <th>2224</th>\n",
       "      <td>tech</td>\n",
       "      <td>Apple iPod family expands marketApple has expa...</td>\n",
       "      <td>The IFPI industry body said that the popularit...</td>\n",
       "      <td>[Apple, iPod, family, expands, marketApple, ex...</td>\n",
       "      <td>[The, IFPI, industry, body, said, popularity, ...</td>\n",
       "    </tr>\n",
       "  </tbody>\n",
       "</table>\n",
       "<p>2225 rows × 5 columns</p>\n",
       "</div>"
      ],
      "text/plain": [
       "              class                                            article  \\\n",
       "0     entertainment  Top of the Pops leaves BBC OneThe BBC's flagsh...   \n",
       "1     entertainment  Snow Patrol feted at Irish awardsSnow Patrol w...   \n",
       "2     entertainment  Godzilla gets Hollywood fame starMovie monster...   \n",
       "3     entertainment  Children vote Shrek 2 best filmYoung UK film f...   \n",
       "4     entertainment  Franz Ferdinand's art school lessonScottish ro...   \n",
       "...             ...                                                ...   \n",
       "2220           tech  Cable offers video-on-demandCable firms NTL an...   \n",
       "2221           tech  Anti-spam laws bite spammer hardThe net's self...   \n",
       "2222           tech  Telewest to challenge Sky PlusCable firm Telew...   \n",
       "2223           tech  Halo fans' hope for sequelXbox video game Halo...   \n",
       "2224           tech  Apple iPod family expands marketApple has expa...   \n",
       "\n",
       "                                                summary  \\\n",
       "0     The BBC's flagship pop music programme Top of ...   \n",
       "1     Franz Ferdinand picked up best international b...   \n",
       "2     \"Godzilla should thank you for this historical...   \n",
       "3     Young UK film fans voted animated Hollywood hi...   \n",
       "4     The buzz about the band soon spread around the...   \n",
       "...                                                 ...   \n",
       "2220  Cable firms NTL and Telewest have both launche...   \n",
       "2221  OptInRealBig was fighting several legal battle...   \n",
       "2222  Cable firm Telewest is to offer a personal vid...   \n",
       "2223  Xbox video game Halo 2 has been released in th...   \n",
       "2224  The IFPI industry body said that the popularit...   \n",
       "\n",
       "                                          article_clean  \\\n",
       "0     [Top, Pops, leaves, BBC, OneThe, BBC, s, flags...   \n",
       "1     [Snow, Patrol, feted, Irish, awardsSnow, Patro...   \n",
       "2     [Godzilla, gets, Hollywood, fame, starMovie, m...   \n",
       "3     [Children, vote, Shrek, 2, best, filmYoung, UK...   \n",
       "4     [Franz, Ferdinand, s, art, school, lessonScott...   \n",
       "...                                                 ...   \n",
       "2220  [Cable, offers, videoondemandCable, firms, NTL...   \n",
       "2221  [Antispam, laws, bite, spammer, hardThe, net, ...   \n",
       "2222  [Telewest, challenge, Sky, PlusCable, firm, Te...   \n",
       "2223  [Halo, fans, hope, sequelXbox, video, game, Ha...   \n",
       "2224  [Apple, iPod, family, expands, marketApple, ex...   \n",
       "\n",
       "                                          summary_clean  \n",
       "0     [The, BBC, s, flagship, pop, music, programme,...  \n",
       "1     [Franz, Ferdinand, picked, best, international...  \n",
       "2     [Godzilla, thank, historical, monumental, star...  \n",
       "3     [Young, UK, film, fans, voted, animated, Holly...  \n",
       "4     [The, buzz, band, soon, spread, around, music,...  \n",
       "...                                                 ...  \n",
       "2220  [Cable, firms, NTL, Telewest, launched, videoo...  \n",
       "2221  [OptInRealBig, fighting, several, legal, battl...  \n",
       "2222  [Cable, firm, Telewest, offer, personal, video...  \n",
       "2223  [Xbox, video, game, Halo, 2, released, US, 9, ...  \n",
       "2224  [The, IFPI, industry, body, said, popularity, ...  \n",
       "\n",
       "[2225 rows x 5 columns]"
      ]
     },
     "execution_count": 9,
     "metadata": {},
     "output_type": "execute_result"
    }
   ],
   "source": [
    "data"
   ]
  },
  {
   "cell_type": "code",
   "execution_count": 10,
   "id": "b61962cc",
   "metadata": {
    "tags": []
   },
   "outputs": [],
   "source": [
    "Word2VecModel = gensim.models.Word2Vec(\n",
    "    [eval(str(i)) for i in data['article_clean']] +\n",
    "    [eval(str(i)) for i in data['summary_clean']],\n",
    "    vector_size=300,\n",
    "    window=5,\n",
    "    min_count=20,\n",
    "    workers=5)  "
   ]
  },
  {
   "cell_type": "code",
   "execution_count": 11,
   "id": "8494a997",
   "metadata": {
    "tags": []
   },
   "outputs": [
    {
     "data": {
      "text/plain": [
       "5496"
      ]
     },
     "execution_count": 11,
     "metadata": {},
     "output_type": "execute_result"
    }
   ],
   "source": [
    "len(Word2VecModel.wv.key_to_index.keys())"
   ]
  },
  {
   "cell_type": "code",
   "execution_count": 12,
   "id": "700e5124",
   "metadata": {
    "tags": []
   },
   "outputs": [],
   "source": [
    "Word2VecModel.save('w2v.model')"
   ]
  },
  {
   "cell_type": "code",
   "execution_count": 13,
   "id": "961a9f63",
   "metadata": {
    "tags": []
   },
   "outputs": [],
   "source": [
    "Word2VecModel = gensim.models.Word2Vec.load(\"w2v.model\")"
   ]
  },
  {
   "cell_type": "code",
   "execution_count": 14,
   "id": "63db4c10",
   "metadata": {
    "tags": []
   },
   "outputs": [],
   "source": [
    "\n",
    "vocab_list = list(Word2VecModel.wv.key_to_index.keys())\n",
    "\n",
    "embeddings_matrix = np.zeros((len(vocab_list) + 1, Word2VecModel.vector_size))\n",
    "\n",
    "for i in range(len(vocab_list)):\n",
    "    word = vocab_list[i]\n",
    "    embeddings_matrix[i] = Word2VecModel.wv[word]\n",
    "vocab_size = len(vocab_list) + 1"
   ]
  },
  {
   "cell_type": "code",
   "execution_count": 15,
   "id": "85ddf57f",
   "metadata": {
    "tags": []
   },
   "outputs": [
    {
     "data": {
      "text/plain": [
       "5497"
      ]
     },
     "execution_count": 15,
     "metadata": {},
     "output_type": "execute_result"
    }
   ],
   "source": [
    "vocab_size"
   ]
  },
  {
   "cell_type": "code",
   "execution_count": 16,
   "id": "0e34cf41",
   "metadata": {
    "tags": []
   },
   "outputs": [],
   "source": [
    "max_input_length = 128\n",
    "X = []\n",
    "for text in data['article_clean']:\n",
    "    text = eval(str(text))\n",
    "    temp = []\n",
    "    for word in text:\n",
    "        if word not in Word2VecModel.wv.key_to_index:\n",
    "            temp.append(vocab_size - 1)\n",
    "        else:\n",
    "            temp.append(Word2VecModel.wv.key_to_index[word])\n",
    "    if len(temp) < max_input_length:\n",
    "        temp += [vocab_size - 1] * (max_input_length - len(temp))\n",
    "    else:\n",
    "        temp = temp[:max_input_length]\n",
    "    X.append(temp)\n",
    "article_X = np.array(X)\n",
    "\n",
    "max_target_length = 64 + 1\n",
    "X = []\n",
    "for text in data['summary_clean']:\n",
    "    text = eval(str(text))\n",
    "    temp = []\n",
    "    for word in text:\n",
    "        if word not in Word2VecModel.wv.key_to_index:\n",
    "            temp.append(vocab_size - 1)\n",
    "        else:\n",
    "            temp.append(Word2VecModel.wv.key_to_index[word])\n",
    "    if len(temp) < max_target_length:\n",
    "        temp += [vocab_size - 1] * (max_target_length - len(temp))\n",
    "    else:\n",
    "        temp = temp[:max_target_length]\n",
    "    X.append(temp)\n",
    "summary_X = np.array(X)"
   ]
  },
  {
   "cell_type": "code",
   "execution_count": 17,
   "id": "e0af32fb",
   "metadata": {
    "tags": []
   },
   "outputs": [
    {
     "data": {
      "text/plain": [
       "((2225, 128), (2225, 65))"
      ]
     },
     "execution_count": 17,
     "metadata": {},
     "output_type": "execute_result"
    }
   ],
   "source": [
    "article_X.shape, summary_X.shape"
   ]
  },
  {
   "cell_type": "code",
   "execution_count": 18,
   "id": "64979b7d",
   "metadata": {
    "tags": []
   },
   "outputs": [
    {
     "name": "stderr",
     "output_type": "stream",
     "text": [
      "2023-12-10 13:58:14.105669: I tensorflow/core/platform/cpu_feature_guard.cc:142] This TensorFlow binary is optimized with oneAPI Deep Neural Network Library (oneDNN) to use the following CPU instructions in performance-critical operations:  AVX2 AVX512F FMA\n",
      "To enable them in other operations, rebuild TensorFlow with the appropriate compiler flags.\n",
      "2023-12-10 13:58:14.904072: I tensorflow/core/common_runtime/gpu/gpu_device.cc:1510] Created device /job:localhost/replica:0/task:0/device:GPU:0 with 14256 MB memory:  -> device: 0, name: NVIDIA RTX A4000, pci bus id: 0000:4f:00.0, compute capability: 8.6\n"
     ]
    },
    {
     "name": "stdout",
     "output_type": "stream",
     "text": [
      "(None, 64, 5497)\n",
      "Model: \"model\"\n",
      "__________________________________________________________________________________________________\n",
      "Layer (type)                    Output Shape         Param #     Connected to                     \n",
      "==================================================================================================\n",
      "input_1 (InputLayer)            [(None, 128)]        0                                            \n",
      "__________________________________________________________________________________________________\n",
      "embedding (Embedding)           (None, 128, 300)     1649100     input_1[0][0]                    \n",
      "__________________________________________________________________________________________________\n",
      "input_2 (InputLayer)            [(None, 64)]         0                                            \n",
      "__________________________________________________________________________________________________\n",
      "dropout (Dropout)               (None, 128, 300)     0           embedding[0][0]                  \n",
      "__________________________________________________________________________________________________\n",
      "embedding_1 (Embedding)         (None, 64, 300)      1649100     input_2[0][0]                    \n",
      "__________________________________________________________________________________________________\n",
      "lstm (LSTM)                     [(None, 128, 256), ( 570368      dropout[0][0]                    \n",
      "__________________________________________________________________________________________________\n",
      "lstm_1 (LSTM)                   [(None, 64, 256), (N 570368      embedding_1[0][0]                \n",
      "                                                                 lstm[0][1]                       \n",
      "                                                                 lstm[0][2]                       \n",
      "__________________________________________________________________________________________________\n",
      "dense (Dense)                   (None, 64, 5497)     1412729     lstm_1[0][0]                     \n",
      "==================================================================================================\n",
      "Total params: 5,851,665\n",
      "Trainable params: 5,851,665\n",
      "Non-trainable params: 0\n",
      "__________________________________________________________________________________________________\n"
     ]
    }
   ],
   "source": [
    "embedding_size = 300 \n",
    "lstm_units = 256  \n",
    "batch_size = 64 \n",
    "epochs = 50\n",
    "learning_rate = 0.001 \n",
    "dropout_rate = 0.5  \n",
    "\n",
    "inputs = Input(shape=(max_input_length,))  \n",
    "x = Embedding(input_dim=vocab_size, output_dim=embedding_size, input_length = max_input_length,\n",
    "                                    weights = [embeddings_matrix],\n",
    "                                    trainable = True)(inputs)  \n",
    "x = Dropout(dropout_rate)(x)  \n",
    "encoder_outputs, state_h, state_c = LSTM(lstm_units, return_sequences=True, return_state=True)(x)  \n",
    "encoder_states = [state_h, state_c]  \n",
    "decoder_inputs = Input(shape=(max_target_length - 1,))\n",
    "y = Embedding(input_dim=vocab_size, output_dim=embedding_size, input_length = max_target_length - 1,\n",
    "                                    weights = [embeddings_matrix],\n",
    "                                    trainable = True)(decoder_inputs)\n",
    "decoder_lstm = LSTM(lstm_units, return_sequences=True, return_state=True)  \n",
    "decoder_outputs, _, _ = decoder_lstm(y, initial_state=encoder_states)  \n",
    "decoder_dense = Dense(vocab_size, activation='softmax')  \n",
    "decoder_outputs = decoder_dense(decoder_outputs)\n",
    "\n",
    "print(decoder_outputs.shape)\n",
    "model = Model([inputs, decoder_inputs], decoder_outputs)\n",
    "model.compile(loss='sparse_categorical_crossentropy',\n",
    "              optimizer=tf.keras.optimizers.Adam(learning_rate=learning_rate),\n",
    "              metrics=['accuracy'])\n",
    "model.summary()"
   ]
  },
  {
   "cell_type": "code",
   "execution_count": 19,
   "id": "4594ff5b",
   "metadata": {
    "tags": []
   },
   "outputs": [],
   "source": [
    "\n",
    "def plot_history(history):\n",
    "    acc = history.history['accuracy']\n",
    "    val_acc = history.history['val_accuracy']\n",
    "    loss = history.history['loss']\n",
    "    val_loss = history.history['val_loss']\n",
    "    x = range(1, len(acc) + 1)\n",
    "    plt.figure(figsize=(12, 5))\n",
    "    plt.subplot(1, 2, 1)\n",
    "    plt.plot(x, acc, 'b', label='Training acc')\n",
    "    plt.plot(x, val_acc, 'r', label='Validation acc')\n",
    "    plt.title('Training and validation accuracy')\n",
    "    plt.legend()\n",
    "    plt.subplot(1, 2, 2)\n",
    "    plt.plot(x, loss, 'b', label='Training loss')\n",
    "    plt.plot(x, val_loss, 'r', label='Validation loss')\n",
    "    plt.title('Training and validation loss')\n",
    "    plt.legend()"
   ]
  },
  {
   "cell_type": "code",
   "execution_count": 20,
   "id": "8ccb45be-2a79-46c4-bc39-2d0fd3386dac",
   "metadata": {
    "tags": []
   },
   "outputs": [],
   "source": [
    "X_train = article_X[:len(train_data)]\n",
    "X_val = article_X[len(train_data): len(train_data) + len(val_data)]\n",
    "\n",
    "y_train = summary_X[:len(train_data)]\n",
    "y_val = summary_X[len(train_data): len(train_data) + len(val_data)]\n",
    "\n",
    "X_test = article_X[len(train_data) + len(val_data):]\n",
    "y_test = summary_X[len(train_data) + len(val_data):]"
   ]
  },
  {
   "cell_type": "code",
   "execution_count": 21,
   "id": "7540772b",
   "metadata": {
    "tags": []
   },
   "outputs": [
    {
     "data": {
      "text/plain": [
       "(array([[2361, 4985, 4267, ...,  777, 5496, 5496],\n",
       "        [4716, 5496, 5496, ...,  394, 5496, 1057],\n",
       "        [5496, 1449,  981, ..., 5426, 5496,  113],\n",
       "        ...,\n",
       "        [5496, 2903, 2364, ...,   28,  204,   14],\n",
       "        [5496,   31,  312, ...,  237, 5496, 5496],\n",
       "        [ 297, 1449, 5365, ...,  118,  285,   97]]),\n",
       " array([[   2,   39,    0, ...,  406,  446, 1494],\n",
       "        [2887, 2300, 1146, ..., 5496, 5496, 5496],\n",
       "        [5496, 3670, 3950, ...,  936, 1131,  981],\n",
       "        ...,\n",
       "        [   4, 5496,    1, ...,  860,   12,   28],\n",
       "        [  10,  349,   54, ...,   23,  204,   31],\n",
       "        [ 297, 5496,  295, ...,  356, 2704, 5496]]))"
      ]
     },
     "execution_count": 21,
     "metadata": {},
     "output_type": "execute_result"
    }
   ],
   "source": [
    "X_train, y_train"
   ]
  },
  {
   "cell_type": "code",
   "execution_count": 22,
   "id": "0a831c47",
   "metadata": {
    "tags": []
   },
   "outputs": [
    {
     "data": {
      "text/plain": [
       "(array([[2361, 4985, 4267, ...,  777, 5496, 5496],\n",
       "        [4716, 5496, 5496, ...,  394, 5496, 1057],\n",
       "        [5496, 1449,  981, ..., 5426, 5496,  113],\n",
       "        ...,\n",
       "        [4333,  876, 1622, ..., 4669,  547,  372],\n",
       "        [2313,  438,  499, ..., 5496,  369,  566],\n",
       "        [ 436, 1160,  555, ...,  194,  123,  788]]),\n",
       " array([[   2,   39,    0, ...,  406,  446, 1494],\n",
       "        [2887, 2300, 1146, ..., 5496, 5496, 5496],\n",
       "        [5496, 3670, 3950, ...,  936, 1131,  981],\n",
       "        ...,\n",
       "        [2891,   55, 4333, ...,  261,  701, 1574],\n",
       "        [1277,  151,   31, ..., 5496,  151, 4850],\n",
       "        [   2, 5496,  133, ...,   52, 2088,  603]]))"
      ]
     },
     "execution_count": 22,
     "metadata": {},
     "output_type": "execute_result"
    }
   ],
   "source": [
    "article_X, summary_X"
   ]
  },
  {
   "cell_type": "code",
   "execution_count": 32,
   "id": "9f43271b",
   "metadata": {
    "tags": []
   },
   "outputs": [
    {
     "name": "stderr",
     "output_type": "stream",
     "text": [
      "2023-12-10 14:05:24.278118: I tensorflow/core/profiler/lib/profiler_session.cc:131] Profiler session initializing.\n",
      "2023-12-10 14:05:24.278156: I tensorflow/core/profiler/lib/profiler_session.cc:146] Profiler session started.\n"
     ]
    },
    {
     "name": "stdout",
     "output_type": "stream",
     "text": [
      "Epoch 1/50\n",
      " 1/28 [>.............................] - ETA: 1s - loss: 6.3401 - accuracy: 0.2683"
     ]
    },
    {
     "name": "stderr",
     "output_type": "stream",
     "text": [
      "2023-12-10 14:05:24.722002: I tensorflow/core/profiler/lib/profiler_session.cc:164] Profiler session tear down.\n",
      "2023-12-10 14:05:24.722330: I tensorflow/core/profiler/internal/gpu/cupti_tracer.cc:1748] CUPTI activity buffer flushed\n",
      "2023-12-10 14:05:24.883735: I tensorflow/core/profiler/lib/profiler_session.cc:131] Profiler session initializing.\n",
      "2023-12-10 14:05:24.883758: I tensorflow/core/profiler/lib/profiler_session.cc:146] Profiler session started.\n"
     ]
    },
    {
     "name": "stdout",
     "output_type": "stream",
     "text": [
      " 5/28 [====>.........................] - ETA: 2s - loss: 6.4747 - accuracy: 0.2464"
     ]
    },
    {
     "name": "stderr",
     "output_type": "stream",
     "text": [
      "2023-12-10 14:05:25.110878: I tensorflow/core/profiler/lib/profiler_session.cc:66] Profiler session collecting data.\n",
      "2023-12-10 14:05:25.111310: I tensorflow/core/profiler/internal/gpu/cupti_tracer.cc:1748] CUPTI activity buffer flushed\n",
      "2023-12-10 14:05:25.123286: I tensorflow/core/profiler/internal/gpu/cupti_collector.cc:673]  GpuTracer has collected 1261 callback api events and 1265 activity events. \n",
      "2023-12-10 14:05:25.138718: I tensorflow/core/profiler/lib/profiler_session.cc:164] Profiler session tear down.\n",
      "2023-12-10 14:05:25.157552: I tensorflow/core/profiler/rpc/client/save_profile.cc:136] Creating directory: log_dir/train/plugins/profile/2023_12_10_14_05_25\n",
      "\n",
      "2023-12-10 14:05:25.176835: I tensorflow/core/profiler/rpc/client/save_profile.cc:142] Dumped gzipped tool data for trace.json.gz to log_dir/train/plugins/profile/2023_12_10_14_05_25/autodl-container-ee5311983c-cf6e3b16.trace.json.gz\n",
      "2023-12-10 14:05:25.194374: I tensorflow/core/profiler/rpc/client/save_profile.cc:136] Creating directory: log_dir/train/plugins/profile/2023_12_10_14_05_25\n",
      "\n",
      "2023-12-10 14:05:25.198219: I tensorflow/core/profiler/rpc/client/save_profile.cc:142] Dumped gzipped tool data for memory_profile.json.gz to log_dir/train/plugins/profile/2023_12_10_14_05_25/autodl-container-ee5311983c-cf6e3b16.memory_profile.json.gz\n",
      "2023-12-10 14:05:25.198808: I tensorflow/core/profiler/rpc/client/capture_profile.cc:251] Creating directory: log_dir/train/plugins/profile/2023_12_10_14_05_25\n",
      "Dumped tool data for xplane.pb to log_dir/train/plugins/profile/2023_12_10_14_05_25/autodl-container-ee5311983c-cf6e3b16.xplane.pb\n",
      "Dumped tool data for overview_page.pb to log_dir/train/plugins/profile/2023_12_10_14_05_25/autodl-container-ee5311983c-cf6e3b16.overview_page.pb\n",
      "Dumped tool data for input_pipeline.pb to log_dir/train/plugins/profile/2023_12_10_14_05_25/autodl-container-ee5311983c-cf6e3b16.input_pipeline.pb\n",
      "Dumped tool data for tensorflow_stats.pb to log_dir/train/plugins/profile/2023_12_10_14_05_25/autodl-container-ee5311983c-cf6e3b16.tensorflow_stats.pb\n",
      "Dumped tool data for kernel_stats.pb to log_dir/train/plugins/profile/2023_12_10_14_05_25/autodl-container-ee5311983c-cf6e3b16.kernel_stats.pb\n",
      "\n"
     ]
    },
    {
     "name": "stdout",
     "output_type": "stream",
     "text": [
      "28/28 [==============================] - 1s 47ms/step - loss: 6.4685 - accuracy: 0.2435 - val_loss: 6.5973 - val_accuracy: 0.2239\n",
      "\n",
      "Epoch 00001: val_accuracy improved from -inf to 0.22393, saving model to lstm_weights.best.hdf5\n",
      "Epoch 2/50\n",
      "28/28 [==============================] - 1s 30ms/step - loss: 6.4198 - accuracy: 0.2435 - val_loss: 6.5605 - val_accuracy: 0.2239\n",
      "\n",
      "Epoch 00002: val_accuracy did not improve from 0.22393\n",
      "Epoch 3/50\n",
      "28/28 [==============================] - 1s 28ms/step - loss: 6.3575 - accuracy: 0.2435 - val_loss: 6.4970 - val_accuracy: 0.2239\n",
      "\n",
      "Epoch 00003: val_accuracy did not improve from 0.22393\n",
      "Epoch 4/50\n",
      "28/28 [==============================] - 1s 33ms/step - loss: 6.2661 - accuracy: 0.2435 - val_loss: 6.4168 - val_accuracy: 0.2239\n",
      "\n",
      "Epoch 00004: val_accuracy did not improve from 0.22393\n",
      "Epoch 5/50\n",
      "28/28 [==============================] - 1s 28ms/step - loss: 6.1700 - accuracy: 0.2435 - val_loss: 6.3478 - val_accuracy: 0.2239\n",
      "\n",
      "Epoch 00005: val_accuracy did not improve from 0.22393\n",
      "Epoch 6/50\n",
      "28/28 [==============================] - 1s 29ms/step - loss: 6.0788 - accuracy: 0.2435 - val_loss: 6.2884 - val_accuracy: 0.2239\n",
      "\n",
      "Epoch 00006: val_accuracy did not improve from 0.22393\n",
      "Epoch 7/50\n",
      "28/28 [==============================] - 1s 29ms/step - loss: 5.9950 - accuracy: 0.2435 - val_loss: 6.2328 - val_accuracy: 0.2239\n",
      "\n",
      "Epoch 00007: val_accuracy did not improve from 0.22393\n",
      "Epoch 8/50\n",
      "28/28 [==============================] - 1s 30ms/step - loss: 5.9172 - accuracy: 0.2437 - val_loss: 6.1917 - val_accuracy: 0.2239\n",
      "\n",
      "Epoch 00008: val_accuracy did not improve from 0.22393\n",
      "Epoch 9/50\n",
      "28/28 [==============================] - 1s 31ms/step - loss: 5.8463 - accuracy: 0.2444 - val_loss: 6.1582 - val_accuracy: 0.2246\n",
      "\n",
      "Epoch 00009: val_accuracy improved from 0.22393 to 0.22464, saving model to lstm_weights.best.hdf5\n",
      "Epoch 10/50\n",
      "28/28 [==============================] - 1s 30ms/step - loss: 5.7807 - accuracy: 0.2455 - val_loss: 6.1309 - val_accuracy: 0.2255\n",
      "\n",
      "Epoch 00010: val_accuracy improved from 0.22464 to 0.22555, saving model to lstm_weights.best.hdf5\n",
      "Epoch 11/50\n",
      "28/28 [==============================] - 1s 30ms/step - loss: 5.7219 - accuracy: 0.2463 - val_loss: 6.1045 - val_accuracy: 0.2265\n",
      "\n",
      "Epoch 00011: val_accuracy improved from 0.22555 to 0.22653, saving model to lstm_weights.best.hdf5\n",
      "Epoch 12/50\n",
      "28/28 [==============================] - 1s 29ms/step - loss: 5.6653 - accuracy: 0.2481 - val_loss: 6.0786 - val_accuracy: 0.2269\n",
      "\n",
      "Epoch 00012: val_accuracy improved from 0.22653 to 0.22688, saving model to lstm_weights.best.hdf5\n",
      "Epoch 13/50\n",
      "28/28 [==============================] - 1s 32ms/step - loss: 5.6132 - accuracy: 0.2498 - val_loss: 6.0580 - val_accuracy: 0.2282\n",
      "\n",
      "Epoch 00013: val_accuracy improved from 0.22688 to 0.22821, saving model to lstm_weights.best.hdf5\n",
      "Epoch 14/50\n",
      "28/28 [==============================] - 1s 30ms/step - loss: 5.5618 - accuracy: 0.2512 - val_loss: 6.0376 - val_accuracy: 0.2286\n",
      "\n",
      "Epoch 00014: val_accuracy improved from 0.22821 to 0.22856, saving model to lstm_weights.best.hdf5\n",
      "Epoch 15/50\n",
      "28/28 [==============================] - 1s 31ms/step - loss: 5.5122 - accuracy: 0.2519 - val_loss: 6.0187 - val_accuracy: 0.2294\n",
      "\n",
      "Epoch 00015: val_accuracy improved from 0.22856 to 0.22940, saving model to lstm_weights.best.hdf5\n",
      "Epoch 16/50\n",
      "28/28 [==============================] - 1s 28ms/step - loss: 5.4636 - accuracy: 0.2536 - val_loss: 6.0035 - val_accuracy: 0.2299\n",
      "\n",
      "Epoch 00016: val_accuracy improved from 0.22940 to 0.22989, saving model to lstm_weights.best.hdf5\n",
      "Epoch 17/50\n",
      "28/28 [==============================] - 1s 33ms/step - loss: 5.4181 - accuracy: 0.2539 - val_loss: 5.9892 - val_accuracy: 0.2297\n",
      "\n",
      "Epoch 00017: val_accuracy did not improve from 0.22989\n",
      "Epoch 18/50\n",
      "28/28 [==============================] - 1s 30ms/step - loss: 5.3712 - accuracy: 0.2550 - val_loss: 5.9770 - val_accuracy: 0.2307\n",
      "\n",
      "Epoch 00018: val_accuracy improved from 0.22989 to 0.23066, saving model to lstm_weights.best.hdf5\n",
      "Epoch 19/50\n",
      "28/28 [==============================] - 1s 29ms/step - loss: 5.3257 - accuracy: 0.2554 - val_loss: 5.9616 - val_accuracy: 0.2311\n",
      "\n",
      "Epoch 00019: val_accuracy improved from 0.23066 to 0.23108, saving model to lstm_weights.best.hdf5\n",
      "Epoch 20/50\n",
      "28/28 [==============================] - 1s 28ms/step - loss: 5.2814 - accuracy: 0.2565 - val_loss: 5.9531 - val_accuracy: 0.2311\n",
      "\n",
      "Epoch 00020: val_accuracy did not improve from 0.23108\n",
      "Epoch 21/50\n",
      "28/28 [==============================] - 1s 28ms/step - loss: 5.2373 - accuracy: 0.2571 - val_loss: 5.9432 - val_accuracy: 0.2320\n",
      "\n",
      "Epoch 00021: val_accuracy improved from 0.23108 to 0.23199, saving model to lstm_weights.best.hdf5\n",
      "Epoch 22/50\n",
      "28/28 [==============================] - 1s 28ms/step - loss: 5.1937 - accuracy: 0.2579 - val_loss: 5.9325 - val_accuracy: 0.2318\n",
      "\n",
      "Epoch 00022: val_accuracy did not improve from 0.23199\n",
      "Epoch 23/50\n",
      "28/28 [==============================] - 1s 33ms/step - loss: 5.1515 - accuracy: 0.2587 - val_loss: 5.9240 - val_accuracy: 0.2317\n",
      "\n",
      "Epoch 00023: val_accuracy did not improve from 0.23199\n",
      "Epoch 24/50\n",
      "28/28 [==============================] - 1s 28ms/step - loss: 5.1120 - accuracy: 0.2598 - val_loss: 5.9189 - val_accuracy: 0.2321\n",
      "\n",
      "Epoch 00024: val_accuracy improved from 0.23199 to 0.23213, saving model to lstm_weights.best.hdf5\n",
      "Epoch 25/50\n",
      "28/28 [==============================] - 1s 29ms/step - loss: 5.0696 - accuracy: 0.2608 - val_loss: 5.9093 - val_accuracy: 0.2329\n",
      "\n",
      "Epoch 00025: val_accuracy improved from 0.23213 to 0.23290, saving model to lstm_weights.best.hdf5\n",
      "Epoch 26/50\n",
      "28/28 [==============================] - 1s 31ms/step - loss: 5.0286 - accuracy: 0.2620 - val_loss: 5.9084 - val_accuracy: 0.2323\n",
      "\n",
      "Epoch 00026: val_accuracy did not improve from 0.23290\n",
      "Epoch 27/50\n",
      "28/28 [==============================] - 1s 29ms/step - loss: 4.9906 - accuracy: 0.2629 - val_loss: 5.9002 - val_accuracy: 0.2326\n",
      "\n",
      "Epoch 00027: val_accuracy did not improve from 0.23290\n",
      "Epoch 28/50\n",
      "28/28 [==============================] - 1s 28ms/step - loss: 4.9496 - accuracy: 0.2643 - val_loss: 5.8915 - val_accuracy: 0.2332\n",
      "\n",
      "Epoch 00028: val_accuracy improved from 0.23290 to 0.23318, saving model to lstm_weights.best.hdf5\n",
      "Epoch 29/50\n",
      "28/28 [==============================] - 1s 28ms/step - loss: 4.9116 - accuracy: 0.2652 - val_loss: 5.8935 - val_accuracy: 0.2340\n",
      "\n",
      "Epoch 00029: val_accuracy improved from 0.23318 to 0.23395, saving model to lstm_weights.best.hdf5\n",
      "Epoch 30/50\n",
      "28/28 [==============================] - 1s 28ms/step - loss: 4.8726 - accuracy: 0.2662 - val_loss: 5.8873 - val_accuracy: 0.2342\n",
      "\n",
      "Epoch 00030: val_accuracy improved from 0.23395 to 0.23416, saving model to lstm_weights.best.hdf5\n",
      "Epoch 31/50\n",
      "28/28 [==============================] - 1s 28ms/step - loss: 4.8352 - accuracy: 0.2675 - val_loss: 5.8833 - val_accuracy: 0.2342\n",
      "\n",
      "Epoch 00031: val_accuracy did not improve from 0.23416\n",
      "Epoch 32/50\n",
      "28/28 [==============================] - 1s 29ms/step - loss: 4.7999 - accuracy: 0.2683 - val_loss: 5.8864 - val_accuracy: 0.2346\n",
      "\n",
      "Epoch 00032: val_accuracy improved from 0.23416 to 0.23459, saving model to lstm_weights.best.hdf5\n",
      "Epoch 33/50\n",
      "28/28 [==============================] - 1s 29ms/step - loss: 4.7628 - accuracy: 0.2695 - val_loss: 5.8818 - val_accuracy: 0.2330\n",
      "\n",
      "Epoch 00033: val_accuracy did not improve from 0.23459\n",
      "Epoch 34/50\n",
      "28/28 [==============================] - 1s 28ms/step - loss: 4.7245 - accuracy: 0.2708 - val_loss: 5.8824 - val_accuracy: 0.2349\n",
      "\n",
      "Epoch 00034: val_accuracy improved from 0.23459 to 0.23494, saving model to lstm_weights.best.hdf5\n",
      "Epoch 35/50\n",
      "28/28 [==============================] - 1s 29ms/step - loss: 4.6897 - accuracy: 0.2721 - val_loss: 5.8840 - val_accuracy: 0.2346\n",
      "\n",
      "Epoch 00035: val_accuracy did not improve from 0.23494\n",
      "Epoch 36/50\n",
      "28/28 [==============================] - 1s 28ms/step - loss: 4.6519 - accuracy: 0.2733 - val_loss: 5.8827 - val_accuracy: 0.2336\n",
      "\n",
      "Epoch 00036: val_accuracy did not improve from 0.23494\n",
      "Epoch 37/50\n",
      "28/28 [==============================] - 1s 28ms/step - loss: 4.6159 - accuracy: 0.2748 - val_loss: 5.8854 - val_accuracy: 0.2337\n",
      "\n",
      "Epoch 00037: val_accuracy did not improve from 0.23494\n",
      "Epoch 38/50\n",
      "28/28 [==============================] - 1s 28ms/step - loss: 4.5841 - accuracy: 0.2769 - val_loss: 5.8879 - val_accuracy: 0.2343\n",
      "\n",
      "Epoch 00038: val_accuracy did not improve from 0.23494\n",
      "Epoch 39/50\n",
      "28/28 [==============================] - 1s 29ms/step - loss: 4.5474 - accuracy: 0.2781 - val_loss: 5.8905 - val_accuracy: 0.2330\n",
      "\n",
      "Epoch 00039: val_accuracy did not improve from 0.23494\n",
      "Epoch 40/50\n",
      "28/28 [==============================] - 1s 29ms/step - loss: 4.5134 - accuracy: 0.2795 - val_loss: 5.8899 - val_accuracy: 0.2345\n",
      "\n",
      "Epoch 00040: val_accuracy did not improve from 0.23494\n",
      "Epoch 41/50\n",
      "28/28 [==============================] - 1s 28ms/step - loss: 4.4807 - accuracy: 0.2813 - val_loss: 5.8952 - val_accuracy: 0.2342\n",
      "\n",
      "Epoch 00041: val_accuracy did not improve from 0.23494\n",
      "Epoch 42/50\n",
      "28/28 [==============================] - 1s 29ms/step - loss: 4.4472 - accuracy: 0.2826 - val_loss: 5.8941 - val_accuracy: 0.2328\n",
      "\n",
      "Epoch 00042: val_accuracy did not improve from 0.23494\n",
      "Epoch 43/50\n",
      "28/28 [==============================] - 1s 29ms/step - loss: 4.4137 - accuracy: 0.2842 - val_loss: 5.8995 - val_accuracy: 0.2316\n",
      "\n",
      "Epoch 00043: val_accuracy did not improve from 0.23494\n",
      "Epoch 44/50\n",
      "28/28 [==============================] - 1s 29ms/step - loss: 4.3795 - accuracy: 0.2861 - val_loss: 5.8998 - val_accuracy: 0.2340\n",
      "\n",
      "Epoch 00044: val_accuracy did not improve from 0.23494\n",
      "Restoring model weights from the end of the best epoch.\n",
      "Epoch 00044: early stopping\n"
     ]
    }
   ],
   "source": [
    "# checkpoint\n",
    "filepath = 'lstm_weights.best.hdf5'\n",
    "checkpoint = ModelCheckpoint(filepath,\n",
    "                             monitor='val_accuracy',\n",
    "                             verbose=1,\n",
    "                             save_best_only=True,\n",
    "                             mode='max')\n",
    "earlystop = EarlyStopping(monitor='val_accuracy',\n",
    "                          patience=10,\n",
    "                          verbose=1,\n",
    "                          mode='max',\n",
    "                          restore_best_weights=True)\n",
    "tb = TensorBoard(log_dir='log_dir', histogram_freq=1, write_grads=False)\n",
    "callbacks_list = [checkpoint, earlystop, tb]\n",
    "history = model.fit([X_train, y_train[:, :-1]],\n",
    "                    y=y_train[:, 1:],\n",
    "                    batch_size=64,\n",
    "                    epochs=50,\n",
    "                    validation_data=([X_val, y_val[:, :-1]], y_val[:, 1:]),\n",
    "                    verbose=1,\n",
    "                    callbacks=callbacks_list)"
   ]
  },
  {
   "cell_type": "code",
   "execution_count": 33,
   "id": "ca41660d-1f60-499a-9fc5-4b69e2a2bf8c",
   "metadata": {
    "tags": []
   },
   "outputs": [
    {
     "data": {
      "image/png": "[encoded data removed]",
      "text/plain": [
       "<Figure size 1200x500 with 2 Axes>"
      ]
     },
     "metadata": {},
     "output_type": "display_data"
    }
   ],
   "source": [
    "plot_history(history)"
   ]
  },
  {
   "cell_type": "code",
   "execution_count": 34,
   "id": "0ea6d127-ce15-49d4-81e3-d7967deeb216",
   "metadata": {
    "tags": []
   },
   "outputs": [
    {
     "data": {
      "text/plain": [
       "((225, 128), (225, 65))"
      ]
     },
     "execution_count": 34,
     "metadata": {},
     "output_type": "execute_result"
    }
   ],
   "source": [
    "X_test.shape, y_test.shape"
   ]
  },
  {
   "cell_type": "code",
   "execution_count": 35,
   "id": "52035be3-93bd-440b-aa93-dcf4259b14a9",
   "metadata": {
    "tags": []
   },
   "outputs": [],
   "source": [
    "y_pred = model.predict([X_test, y_test[:, :-1]])"
   ]
  },
  {
   "cell_type": "code",
   "execution_count": 36,
   "id": "c70262b0-08d9-44a6-9986-fdae0b21aae9",
   "metadata": {
    "tags": []
   },
   "outputs": [
    {
     "data": {
      "text/plain": [
       "(225, 64, 5497)"
      ]
     },
     "execution_count": 36,
     "metadata": {},
     "output_type": "execute_result"
    }
   ],
   "source": [
    "y_pred.shape"
   ]
  },
  {
   "cell_type": "code",
   "execution_count": 37,
   "id": "b2314230-7f39-431d-a716-9cd6457b40db",
   "metadata": {
    "tags": []
   },
   "outputs": [],
   "source": [
    "y_pred_label = np.argmax(y_pred, axis=-1)"
   ]
  },
  {
   "cell_type": "code",
   "execution_count": 38,
   "id": "bb2ddc57-e54c-4122-91ca-5b179fd44690",
   "metadata": {
    "tags": []
   },
   "outputs": [
    {
     "data": {
      "text/plain": [
       "(225, 64)"
      ]
     },
     "execution_count": 38,
     "metadata": {},
     "output_type": "execute_result"
    }
   ],
   "source": [
    "y_pred_label.shape"
   ]
  },
  {
   "cell_type": "code",
   "execution_count": 39,
   "id": "4b1afa38-2c71-4c91-9368-cfbf7782b47f",
   "metadata": {
    "tags": []
   },
   "outputs": [],
   "source": [
    "def compute_bleu(reference_corpus,\n",
    "                 translation_corpus,\n",
    "                 max_order=1,\n",
    "                 smooth=False):\n",
    "    def _get_ngrams(segment, max_order):\n",
    "        ngram_counts = collections.Counter()\n",
    "        for order in range(1, max_order + 1):\n",
    "            for i in range(0, len(segment) - order + 1):\n",
    "                ngram = tuple(segment[i:i + order])\n",
    "                ngram_counts[ngram] += 1\n",
    "        return ngram_counts\n",
    "\n",
    "    matches_by_order = [0] * max_order\n",
    "    possible_matches_by_order = [0] * max_order\n",
    "    reference_length = 0\n",
    "    translation_length = 0\n",
    "    for (references, translation) in zip(reference_corpus, translation_corpus):\n",
    "        reference_length += min(len(r) for r in references)\n",
    "        translation_length += len(translation)\n",
    "\n",
    "        merged_ref_ngram_counts = collections.Counter()\n",
    "        for reference in references:\n",
    "            merged_ref_ngram_counts |= _get_ngrams(reference, max_order)\n",
    "        translation_ngram_counts = _get_ngrams(translation, max_order)\n",
    "        overlap = translation_ngram_counts & merged_ref_ngram_counts\n",
    "        for ngram in overlap:\n",
    "            matches_by_order[len(ngram) - 1] += overlap[ngram]\n",
    "        for order in range(1, max_order + 1):\n",
    "            possible_matches = len(translation) - order + 1\n",
    "            if possible_matches > 0:\n",
    "                possible_matches_by_order[order - 1] += possible_matches\n",
    "\n",
    "    precisions = [0] * max_order\n",
    "    for i in range(0, max_order):\n",
    "        if smooth:\n",
    "            precisions[i] = ((matches_by_order[i] + 1.) /\n",
    "                             (possible_matches_by_order[i] + 1.))\n",
    "        else:\n",
    "            if possible_matches_by_order[i] > 0:\n",
    "                precisions[i] = (float(matches_by_order[i]) /\n",
    "                                 possible_matches_by_order[i])\n",
    "            else:\n",
    "                precisions[i] = 0.0\n",
    "\n",
    "    if min(precisions) > 0:\n",
    "        p_log_sum = sum((1. / max_order) * math.log(p) for p in precisions)\n",
    "        geo_mean = math.exp(p_log_sum)\n",
    "    else:\n",
    "        geo_mean = 0\n",
    "\n",
    "    ratio = float(translation_length) / reference_length\n",
    "\n",
    "    if ratio > 1.0:\n",
    "        bp = 1.\n",
    "    else:\n",
    "        bp = math.exp(1 - 1. / ratio)\n",
    "\n",
    "    bleu = geo_mean * bp\n",
    "\n",
    "    return bleu"
   ]
  },
  {
   "cell_type": "code",
   "execution_count": 40,
   "id": "756237ba-7b6e-4ec1-9788-b6f9dd2c0c4b",
   "metadata": {
    "tags": []
   },
   "outputs": [
    {
     "name": "stdout",
     "output_type": "stream",
     "text": [
      "\n",
      "***************\n",
      "The auto evaluation result is:\n",
      "rouge-1: 0.1384\n",
      "rouge-2: 0.0615\n",
      "rouge-L: 0.1249\n",
      "BLEU: 0.0451\n"
     ]
    }
   ],
   "source": [
    "from rouge import Rouge\n",
    "rouge = Rouge()\n",
    "\n",
    "scores = []\n",
    "refs = []\n",
    "hyps = []\n",
    "for i, j in zip(y_test[:, 1:], y_pred_label):\n",
    "    temp = [str(t) for t in i]\n",
    "    refs.append(temp)\n",
    "    ref = \" \".join(temp)\n",
    "    temp = [str(t) for t in j]\n",
    "    hyps.append(temp)\n",
    "    hyp = \" \".join(temp)\n",
    "    try:\n",
    "        score = rouge.get_scores(hyp, ref)\n",
    "        scores.append([\n",
    "            score[0][\"rouge-1\"][\"f\"], score[0][\"rouge-2\"][\"f\"],\n",
    "            score[0][\"rouge-l\"][\"f\"]\n",
    "        ])\n",
    "    except ValueError:\n",
    "        scores.append([0, 0, 0])\n",
    "rouge1 = np.mean([i[0] for i in scores])\n",
    "rouge2 = np.mean([i[1] for i in scores])\n",
    "rougel = np.mean([i[2] for i in scores])\n",
    "print(\"\\n\" + \"*\" * 15)\n",
    "print(\"The auto evaluation result is:\")\n",
    "print(\"rouge-1:\", round(rouge1, 4))\n",
    "print(\"rouge-2:\", round(rouge2, 4))\n",
    "print(\"rouge-L:\", round(rougel, 4))\n",
    "print(\"BLEU:\", round(compute_bleu(refs, hyps), 4))"
   ]
  },
  {
   "cell_type": "code",
   "execution_count": null,
   "id": "bca10029-e747-42eb-89c7-877107b8ee3d",
   "metadata": {},
   "outputs": [],
   "source": []
  }
 ],
 "metadata": {
  "kernelspec": {
   "display_name": "Python 3 (ipykernel)",
   "language": "python",
   "name": "python3"
  },
  "language_info": {
   "codemirror_mode": {
    "name": "ipython",
    "version": 3
   },
   "file_extension": ".py",
   "mimetype": "text/x-python",
   "name": "python",
   "nbconvert_exporter": "python",
   "pygments_lexer": "ipython3",
   "version": "3.8.10"
  }
 },
 "nbformat": 4,
 "nbformat_minor": 5
}
